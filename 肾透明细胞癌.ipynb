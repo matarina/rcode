{
 "cells": [
  {
   "cell_type": "markdown",
   "metadata": {},
   "source": [
    "<div style=\"text-align: center;\">\n",
    "  <span style=\"font-family: Arial; color: red; font-weight: bold;font-size: 36px;\">基于生信分析的肾纤维化关键基因分析</span>\n",
    "</div>"
   ]
  },
  {
   "cell_type": "markdown",
   "metadata": {},
   "source": [
    "肾脏纤维化是一个高度动态的过程，涉及炎性细胞浸润、肌成纤维细胞的活化与增殖、细胞外基质的异常合成与沉积、肾脏固有细胞损伤，以及肾小管萎缩、毛细血管减少等众多复杂的学术问题。近年来随着研究不断深入，国内外学者对肾脏纤维化的发病机制的认识虽已取得重要进展，但临床上仍主要采用控制肾功能恶化的危险因素来防治肾脏纤维化，患者预后改善并不十分显著，仍缺乏有效延缓和干预措施。近年来，随着单细胞多组学方法以及高分辨质谱技术发展，正在以前所未有的分辨率和效率解码纤维化的细胞和分子机制，不断改变我们对疾病发病机理的理解，这项“分辨率革命”使得在单细胞水平上无偏见地对细胞状态和类型探索成为可能。\n",
    "本文通过生物信息学手段对肾纤维化的单细胞测序数据进行分析，通过差异基因的筛选和WCGNA等手段找到一组可能对肾纤维化的疾病进程有关键影响的基因。"
   ]
  },
  {
   "cell_type": "markdown",
   "metadata": {},
   "source": [
    "我们首先从TCGA数据库下载了一组肾纤维化模型小鼠的单细胞转录组测序的表达钜阵（GSE182256），对数据进行预处理后，对正常小鼠和UUO模型小鼠的基因表达情况以及以及各个细胞簇进行聚类分析。"
   ]
  },
  {
   "cell_type": "code",
   "execution_count": null,
   "metadata": {
    "vscode": {
     "languageId": "r"
    }
   },
   "outputs": [],
   "source": [
    "# environment initialization\n",
    "rm(list= ls())\n",
    "library(dplyr)\n",
    "library(Seurat)\n",
    "library(patchwork)\n",
    "library(monocle3)"
   ]
  },
  {
   "cell_type": "code",
   "execution_count": 6,
   "metadata": {
    "vscode": {
     "languageId": "r"
    }
   },
   "outputs": [],
   "source": [
    "# load data as seurat object\n",
    "count = readRDS('GSE182256_Export_counts.rds')\n",
    "meta = read.csv('GSE182256_Export_Metadata.txt',sep = '\\t',row.names = 1)\n",
    "meta$condition = gsub('\\\\d','',meta$orig.ident)\n",
    "obj <- CreateSeuratObject(counts = count,meta.data = meta, project = \"renal_fibrosis\", min.cells = 3, min.features = 200)"
   ]
  },
  {
   "cell_type": "code",
   "execution_count": null,
   "metadata": {
    "vscode": {
     "languageId": "r"
    }
   },
   "outputs": [],
   "source": [
    "# filter data noise and normalize\n",
    "obj <- subset(obj, subset = nFeature_RNA > 200 & nFeature_RNA < 2500 & percent.mt < 5)\n",
    "obj <- NormalizeData(obj)\n",
    "obj <- FindVariableFeatures(obj, selection.method = \"vst\", nfeatures = 2000)\n",
    "all.genes <- rownames(obj)\n",
    "obj <- ScaleData(obj, features = all.genes)\n",
    "# dimension reduction utilize PCA and Umap\n",
    "obj <- RunPCA(obj, features = VariableFeatures(object = obj))\n",
    "obj <- FindNeighbors(obj, dims = 1:15)\n",
    "obj <- FindClusters(obj, resolution = 0.5)\n",
    "head(Idents(obj), 5)\n",
    "obj <- RunUMAP(obj, dims = 1:15)\n",
    "DimPlot(obj, reduction = \"umap\",label=TRUE,split.by = 'condition')\n",
    "DimPlot(obj, group.by = 'condition',reduction = \"umap\")\n"
   ]
  },
  {
   "cell_type": "markdown",
   "metadata": {},
   "source": [
    "<div style=\"display:flex; justify-content:center;\">\n",
    "    <img src=\"Rplot.png\" alt=\"Image 2\" width=\"400px\"/>\n",
    "   \n",
    "</div>"
   ]
  },
  {
   "cell_type": "markdown",
   "metadata": {},
   "source": [
    "对UUO和Control组的基因表达作差异分析，结果显示CD PC（collecting duct principal cell, 肾脏集合管细胞）细胞的差异基因数目最多，因此以下研究主要集中在CD PC细胞系中。"
   ]
  },
  {
   "cell_type": "code",
   "execution_count": null,
   "metadata": {
    "vscode": {
     "languageId": "r"
    }
   },
   "outputs": [],
   "source": [
    "# cells are annoted by the metadata uploaded by the author differential analysis  for all cell clusters and \n",
    "# check the different gene numbers in each clusters, counting which cell cluster has the most differential genes\n",
    "obj.markers <- FindAllMarkers(obj, only.pos = FALSE, min.pct = 0.25)\n",
    "table(obj.markers$cluster)\n",
    "DimPlot(obj, reduction = \"umap\",label=TRUE,group.by = 'Cluster',  repel = TRUE,split.by = 'condition')+ NoLegend()\n",
    "DimPlot(obj, reduction = \"umap\", label = TRUE,group.by = 'Cluster',  repel = TRUE,pt.size = 0.5) + NoLegend()\n",
    "diff = obj.markers %>% filter(cluster == '16') "
   ]
  },
  {
   "cell_type": "markdown",
   "metadata": {},
   "source": [
    "<div style=\"display:flex; justify-content:center;\">\n",
    "    <img src=\"Rplot01.png\" alt=\"Image 2\" width=\"400px\"/>\n",
    "    <img src=\"Rplot02.png\" alt=\"Image 2\" width=\"600px\"/>\n",
    "</div>"
   ]
  },
  {
   "cell_type": "markdown",
   "metadata": {},
   "source": [
    "差异基因的火山图"
   ]
  },
  {
   "cell_type": "code",
   "execution_count": null,
   "metadata": {
    "vscode": {
     "languageId": "r"
    }
   },
   "outputs": [],
   "source": [
    "# volcano plot\n",
    "library(EnhancedVolcano)\n",
    "EnhancedVolcano(diff,\n",
    "                lab = rownames(diff),\n",
    "                x = 'avg_log2FC',\n",
    "                y = 'p_val',\n",
    "                title = 'N061011 versus N61311',\n",
    "                pCutoff = 10e-32,\n",
    "                FCcutoff = 0.5,\n",
    "                pointSize = 3.0,\n",
    "                labSize = 6.0)\n"
   ]
  },
  {
   "cell_type": "markdown",
   "metadata": {},
   "source": [
    "<div style=\"display:flex; justify-content:center;\">\n",
    "    <img src=\"Rplot10.png\" alt=\"Image 2\" width=\"60%\"/>\n",
    "</div>"
   ]
  },
  {
   "cell_type": "markdown",
   "metadata": {},
   "source": [
    "对CD PC中差异表达的基因进行GO富集分析"
   ]
  },
  {
   "cell_type": "code",
   "execution_count": null,
   "metadata": {
    "vscode": {
     "languageId": "r"
    }
   },
   "outputs": [],
   "source": [
    "# Perform GO enrichment analysis using the enrichGO function\n",
    "library(clusterProfiler)\n",
    "library(org.Mm.eg.db)\n",
    "ego <- enrichGO(gene = diff$gene,\n",
    "                OrgDb = org.Mm.eg.db,\n",
    "                keyType = \"SYMBOL\",\n",
    "                ont = \"BP\",\n",
    "                pAdjustMethod = \"BH\",\n",
    "                pvalueCutoff = 0.05,\n",
    "                qvalueCutoff = 0.2)\n",
    "dotplot(ego)"
   ]
  },
  {
   "cell_type": "markdown",
   "metadata": {},
   "source": [
    "<div style=\"display:flex; justify-content:center;\">\n",
    "    <img src=\"renal_fibrosis/图片3.png\" alt=\"Image 2\" width=\"40%\"/>\n",
    "</div>"
   ]
  },
  {
   "cell_type": "markdown",
   "metadata": {},
   "source": [
    "利用monocle3对CD PC细胞个表达时序图进行可视化。"
   ]
  },
  {
   "cell_type": "code",
   "execution_count": null,
   "metadata": {
    "vscode": {
     "languageId": "r"
    }
   },
   "outputs": [],
   "source": [
    "# Constructing single-cell trajectories\n",
    "library(SeuratWrappers)\n",
    "cds  = as.cell_data_set(obj)\n",
    "cds <- preprocess_cds(cds, num_dim = 50)\n",
    "cds <- cluster_cells(cds, resolution=1e-5)\n",
    "\n",
    "cds <- reduce_dimension(cds)\n",
    "plot_cells(cds, label_groups_by_cluster=FALSE,  color_cells_by = \"Cluster\")\n",
    "\n",
    "cds_subset <- choose_cells(cds)\n",
    "cds_subset <- cluster_cells(cds_subset, resolution=1e-5)\n",
    "cds_subset <- learn_graph(cds_subset)\n",
    "plot_cells(cds_subset,\n",
    "           color_cells_by = \"Cluster\",\n",
    "           label_groups_by_cluster=FALSE,\n",
    "           label_leaves=FALSE,\n",
    "           cell_size = 0.55,\n",
    "           group_label_size = 3,\n",
    "           label_branch_points=FALSE)"
   ]
  },
  {
   "cell_type": "markdown",
   "metadata": {},
   "source": [
    "<div style=\"text-align:center\">\n",
    "    <img src=\"Rplot05.png\" width=\"40%\">\n",
    "</div>"
   ]
  },
  {
   "cell_type": "markdown",
   "metadata": {},
   "source": [
    "利用scWGCNA对差异基因之间相关性进行分析，可以分为4个基因模块，对4模块在细胞上的表达进行分析，可以看出模块3的基因和CD PC细胞高度重合 ，具有一定的特异性。"
   ]
  },
  {
   "cell_type": "code",
   "execution_count": null,
   "metadata": {
    "vscode": {
     "languageId": "r"
    }
   },
   "outputs": [],
   "source": [
    "# perform scWGCNA\n",
    "subobj = subset(x = obj, subset = (condition == \"UUO\"|Cluster == \"CD PC\"))\n",
    "subobj <- subset(subobj, features = diff$gene)\n",
    "library(scWGCNA)\n",
    "# Calculate the pseudocells\n",
    "subobj <- JackStraw(subobj, num.replicate = 100)\n",
    "subobj <- ScoreJackStraw(subobj, dims = 1:20)\n",
    "subobj <- RunUMAP(subobj, dims = 1:15)\n",
    "subobj <- RunTSNE(subobj, dims = 1:15)\n",
    "pseudocell = calculate.pseudocells(s.cells = subobj, # Single cells in Seurat object\n",
    "                                          seeds=0.2, # Fraction of cells to use as seeds to aggregate pseudocells\n",
    "                                          nn = 10, # Number of neighbors to aggregate\n",
    "                                          reduction = \"PCA\" ,# Reduction to use\n",
    "                                          dims = 1:15) # The dimensions to use\n",
    "scWGCNA = run.scWGCNA(p.cells = subobj, # Pseudocells (recommended), or Seurat single cells\n",
    "                                 s.cells = subobj, # single cells in Seurat format\n",
    "                                 is.pseudocell = F, # We are using single cells twice this time\n",
    "                                 features = rownames(subobj)) # Recommended: variable genes\n",
    "scW.p.dendro(scWGCNA.data = scWGCNA)\n",
    "\n",
    "scW.p.expression(s.cells = subobj, # Single cells in Seurat format\n",
    "                 scWGCNA.data = scWGCNA, # scWGCNA list dataset\n",
    "                 modules = \"all\", # Which modules to plot?\n",
    "                 reduction = \"umap\", # Which reduction to plot?\n",
    "                 ncol=2) # How m\n"
   ]
  },
  {
   "cell_type": "markdown",
   "metadata": {},
   "source": [
    "<div style=\"display:flex; justify-content:center;\">\n",
    "    <img src=\"Rplot09.png\" alt=\"Image 1\" width=\"300\" style=\"margin-right: 20px;\"/>\n",
    "    <img src=\"Rplot13.png\" alt=\"Image 2\" width=\"300\"/>\n",
    "</div>"
   ]
  },
  {
   "cell_type": "markdown",
   "metadata": {},
   "source": [
    "对module3的基因进行富集分析，发现主要通路是和肾代谢相关："
   ]
  },
  {
   "cell_type": "markdown",
   "metadata": {},
   "source": [
    "<div style=\"display:flex; justify-content:center;\">\n",
    "    <img src=\"renal_fibrosis/图片2.png\" alt=\"Image 2\" width=\"300\"/>\n",
    "</div>"
   ]
  },
  {
   "cell_type": "markdown",
   "metadata": {},
   "source": [
    "FDRdb是一个手动注释的纤维化疾病相关的RNA组学数据库，该数据库初始版本包含 8 个物种的 912 个 RNA 与 92 种纤维化疾病之间的 1947 个关联；收集 764 个纤维化疾病数据集的信息。我们从FDRdb下载了和肾纤维化相关的基因232个，和module4的212个基因取交集后，共得到以下8个关键基因：\"Ackr3\"   \"Cav1\"    \"Col18a1\" \"Fos\"     \"Hif1a\"   \"Lgals3\"  \"Thbs1\"   \"Dsp\"。"
   ]
  },
  {
   "cell_type": "markdown",
   "metadata": {},
   "source": [
    "<div style=\"display:flex; justify-content:center;\">\n",
    "    <img src=\"/home/ma/image1.png\" alt=\"Image 233\" width=\"300\"/>\n",
    "</div>"
   ]
  },
  {
   "cell_type": "markdown",
   "metadata": {},
   "source": [
    "基因表达热图可以看出8个基因主要在CD PC中表达。"
   ]
  },
  {
   "cell_type": "markdown",
   "metadata": {},
   "source": [
    "<div style=\"display:flex; justify-content:center;\">\n",
    "    <img src=\"renal_fibrosis/图片4.png\" alt=\"Image 2\" width=\"70%\"/>\n",
    "</div>"
   ]
  },
  {
   "cell_type": "markdown",
   "metadata": {},
   "source": [
    "GeneNet分析GeneNet 是协方差矩阵的线性收缩估计器，然后基于从收缩估计器获得的部分相关性进行高斯图形模型 (GGM) 选择。通过使用本地错误发现率的多重测试程序，\n",
    "GGM 选择将错误发现率控制在预定水平以下。"
   ]
  },
  {
   "cell_type": "markdown",
   "metadata": {},
   "source": [
    "<div style=\"display:flex; justify-content:center;\">\n",
    "    <img src=\"renal_fibrosis/图片5.png\" alt=\"Image 2\" width=\"30%\"/>\n",
    "</div>"
   ]
  },
  {
   "cell_type": "markdown",
   "metadata": {},
   "source": [
    "以及利用Stringdb的蛋白互作网络分析对这几个基因的蛋白表达水平进行预测。"
   ]
  },
  {
   "cell_type": "markdown",
   "metadata": {},
   "source": [
    "<div style=\"display:flex; justify-content:center;\">\n",
    "    <img src=\"renal_fibrosis/图片6.png\" alt=\"Image 2\" width=\"50%\"/>\n",
    "</div>"
   ]
  },
  {
   "cell_type": "markdown",
   "metadata": {},
   "source": []
  }
 ],
 "metadata": {
  "kernelspec": {
   "display_name": "R",
   "language": "R",
   "name": "ir"
  },
  "language_info": {
   "codemirror_mode": "r",
   "file_extension": ".r",
   "mimetype": "text/x-r-source",
   "name": "R",
   "pygments_lexer": "r",
   "version": "4.3.1"
  },
  "orig_nbformat": 4
 },
 "nbformat": 4,
 "nbformat_minor": 2
}

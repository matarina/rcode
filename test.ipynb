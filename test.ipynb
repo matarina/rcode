{
 "cells": [
  {
   "cell_type": "code",
   "execution_count": 1,
   "metadata": {},
   "outputs": [
    {
     "name": "stderr",
     "output_type": "stream",
     "text": [
      "/data/dk/micromamba/envs/sc/lib/python3.11/site-packages/tqdm/auto.py:21: TqdmWarning: IProgress not found. Please update jupyter and ipywidgets. See https://ipywidgets.readthedocs.io/en/stable/user_install.html\n",
      "  from .autonotebook import tqdm as notebook_tqdm\n"
     ]
    },
    {
     "name": "stdout",
     "output_type": "stream",
     "text": [
      "scanpy==1.9.5 anndata==0.9.2 umap==0.5.4 numpy==1.24.4 scipy==1.11.2 pandas==2.1.0 scikit-learn==1.3.0 statsmodels==0.14.0 igraph==0.10.8 pynndescent==0.5.10\n"
     ]
    }
   ],
   "source": [
    "import numpy as np\n",
    "import pandas as pd\n",
    "import scanpy as sc\n",
    "sc.settings.verbosity = 0  # verbosity: errors (0), warnings (1), info (2), hints (3)\n",
    "sc.logging.print_header()\n",
    "sc.settings.set_figure_params(dpi=80,facecolor='white')"
   ]
  },
  {
   "cell_type": "code",
   "execution_count": 11,
   "metadata": {},
   "outputs": [],
   "source": [
    "adata_sham1 = sc.read_10x_mtx('/data/dk/ischematic_stroke/',\n",
    "                        var_names='gene_symbols',\n",
    "                        cache=True,\n",
    "                        prefix='GSM5319987_sham1_')\n",
    "adata_sham2 = sc.read_10x_mtx('/data/dk/ischematic_stroke/',\n",
    "                        var_names='gene_symbols',\n",
    "                        cache=True,\n",
    "                        prefix='GSM5319988_sham2_')\n",
    "adata_sham3 = sc.read_10x_mtx('/data/dk/ischematic_stroke/',\n",
    "                        var_names='gene_symbols',\n",
    "                        cache=True,\n",
    "                        prefix='GSM5319989_sham3_')\n",
    "adata_MCAO1 = sc.read_10x_mtx('/data/dk/ischematic_stroke/',\n",
    "                        var_names='gene_symbols',\n",
    "                        cache=True,\n",
    "                        prefix='GSM5319990_MCAO1_')\n",
    "adata_MCAO2 = sc.read_10x_mtx('/data/dk/ischematic_stroke/',\n",
    "                        var_names='gene_symbols',\n",
    "                        cache=True,\n",
    "                        prefix='GSM5319991_MCAO2_')\n",
    "adata_MCAO3 = sc.read_10x_mtx('/data/dk/ischematic_stroke/',\n",
    "                        var_names='gene_symbols',\n",
    "                        cache=True,\n",
    "                        prefix='GSM5319992_MCAO3_')\n"
   ]
  },
  {
   "cell_type": "code",
   "execution_count": 23,
   "metadata": {},
   "outputs": [
    {
     "name": "stderr",
     "output_type": "stream",
     "text": [
      "/data/dk/micromamba/envs/sc/lib/python3.11/site-packages/anndata/_core/anndata.py:1763: FutureWarning: The AnnData.concatenate method is deprecated in favour of the anndata.concat function. Please use anndata.concat instead.\n",
      "\n",
      "See the tutorial for concat at: https://anndata.readthedocs.io/en/latest/concatenation.html\n",
      "  warnings.warn(\n",
      "/data/dk/micromamba/envs/sc/lib/python3.11/site-packages/anndata/_core/merge.py:1015: FutureWarning: The default value of 'ignore' for the `na_action` parameter in pandas.Categorical.map is deprecated and will be changed to 'None' in a future version. Please set na_action to the desired value to avoid seeing this warning\n",
      "  concat_indices = concat_indices.str.cat(label_col.map(str), sep=index_unique)\n",
      "/data/dk/micromamba/envs/sc/lib/python3.11/site-packages/anndata/_core/merge.py:217: FutureWarning: is_categorical_dtype is deprecated and will be removed in a future version. Use isinstance(dtype, CategoricalDtype) instead\n",
      "  if pd.api.types.is_categorical_dtype(dtype):\n",
      "/data/dk/micromamba/envs/sc/lib/python3.11/site-packages/anndata/_core/merge.py:1015: FutureWarning: The default value of 'ignore' for the `na_action` parameter in pandas.Categorical.map is deprecated and will be changed to 'None' in a future version. Please set na_action to the desired value to avoid seeing this warning\n",
      "  concat_indices = concat_indices.str.cat(label_col.map(str), sep=index_unique)\n",
      "/data/dk/micromamba/envs/sc/lib/python3.11/site-packages/anndata/_core/merge.py:217: FutureWarning: is_categorical_dtype is deprecated and will be removed in a future version. Use isinstance(dtype, CategoricalDtype) instead\n",
      "  if pd.api.types.is_categorical_dtype(dtype):\n"
     ]
    }
   ],
   "source": [
    "adata_sham1.obs['lable'] = 'sham1'\n",
    "adata_sham2.obs['lable'] = 'sham2'\n",
    "adata_sham3.obs['lable'] = 'sham3'\n",
    "adata_MCAO1.obs['lable'] = 'MCAO1'\n",
    "adata_MCAO2.obs['lable'] = 'MCAO2'\n",
    "adata_MCAO3.obs['lable'] = 'MCAO3'\n",
    "all = adata_sham1.concatenate(adata_sham1,adata_sham2,adata_sham3,adata_MCAO1,adata_MCAO2,adata_MCAO3)"
   ]
  },
  {
   "cell_type": "code",
   "execution_count": 25,
   "metadata": {},
   "outputs": [
    {
     "data": {
      "text/html": [
       "<div>\n",
       "<style scoped>\n",
       "    .dataframe tbody tr th:only-of-type {\n",
       "        vertical-align: middle;\n",
       "    }\n",
       "\n",
       "    .dataframe tbody tr th {\n",
       "        vertical-align: top;\n",
       "    }\n",
       "\n",
       "    .dataframe thead th {\n",
       "        text-align: right;\n",
       "    }\n",
       "</style>\n",
       "<table border=\"1\" class=\"dataframe\">\n",
       "  <thead>\n",
       "    <tr style=\"text-align: right;\">\n",
       "      <th></th>\n",
       "      <th>lable</th>\n",
       "      <th>batch</th>\n",
       "    </tr>\n",
       "  </thead>\n",
       "  <tbody>\n",
       "    <tr>\n",
       "      <th>AAACCTGAGCACAGGT-1-0</th>\n",
       "      <td>sham1</td>\n",
       "      <td>0</td>\n",
       "    </tr>\n",
       "    <tr>\n",
       "      <th>AAACCTGAGCGTCAAG-1-0</th>\n",
       "      <td>sham1</td>\n",
       "      <td>0</td>\n",
       "    </tr>\n",
       "    <tr>\n",
       "      <th>AAACCTGAGGGTATCG-1-0</th>\n",
       "      <td>sham1</td>\n",
       "      <td>0</td>\n",
       "    </tr>\n",
       "    <tr>\n",
       "      <th>AAACCTGAGTTGAGAT-1-0</th>\n",
       "      <td>sham1</td>\n",
       "      <td>0</td>\n",
       "    </tr>\n",
       "    <tr>\n",
       "      <th>AAACCTGCACCTCGGA-1-0</th>\n",
       "      <td>sham1</td>\n",
       "      <td>0</td>\n",
       "    </tr>\n",
       "    <tr>\n",
       "      <th>...</th>\n",
       "      <td>...</td>\n",
       "      <td>...</td>\n",
       "    </tr>\n",
       "    <tr>\n",
       "      <th>TTTGTCATCCCTTGCA-1-1</th>\n",
       "      <td>sham2</td>\n",
       "      <td>1</td>\n",
       "    </tr>\n",
       "    <tr>\n",
       "      <th>TTTGTCATCGAGCCCA-1-1</th>\n",
       "      <td>sham2</td>\n",
       "      <td>1</td>\n",
       "    </tr>\n",
       "    <tr>\n",
       "      <th>TTTGTCATCGTGGACC-1-1</th>\n",
       "      <td>sham2</td>\n",
       "      <td>1</td>\n",
       "    </tr>\n",
       "    <tr>\n",
       "      <th>TTTGTCATCGTTGCCT-1-1</th>\n",
       "      <td>sham2</td>\n",
       "      <td>1</td>\n",
       "    </tr>\n",
       "    <tr>\n",
       "      <th>TTTGTCATCTCGCATC-1-1</th>\n",
       "      <td>sham2</td>\n",
       "      <td>1</td>\n",
       "    </tr>\n",
       "  </tbody>\n",
       "</table>\n",
       "<p>17311 rows × 2 columns</p>\n",
       "</div>"
      ],
      "text/plain": [
       "                      lable batch\n",
       "AAACCTGAGCACAGGT-1-0  sham1     0\n",
       "AAACCTGAGCGTCAAG-1-0  sham1     0\n",
       "AAACCTGAGGGTATCG-1-0  sham1     0\n",
       "AAACCTGAGTTGAGAT-1-0  sham1     0\n",
       "AAACCTGCACCTCGGA-1-0  sham1     0\n",
       "...                     ...   ...\n",
       "TTTGTCATCCCTTGCA-1-1  sham2     1\n",
       "TTTGTCATCGAGCCCA-1-1  sham2     1\n",
       "TTTGTCATCGTGGACC-1-1  sham2     1\n",
       "TTTGTCATCGTTGCCT-1-1  sham2     1\n",
       "TTTGTCATCTCGCATC-1-1  sham2     1\n",
       "\n",
       "[17311 rows x 2 columns]"
      ]
     },
     "execution_count": 25,
     "metadata": {},
     "output_type": "execute_result"
    }
   ],
   "source": [
    "all.obs"
   ]
  }
 ],
 "metadata": {
  "kernelspec": {
   "display_name": "sc",
   "language": "python",
   "name": "sc"
  },
  "language_info": {
   "codemirror_mode": {
    "name": "ipython",
    "version": 3
   },
   "file_extension": ".py",
   "mimetype": "text/x-python",
   "name": "python",
   "nbconvert_exporter": "python",
   "pygments_lexer": "ipython3",
   "version": "3.11.5"
  },
  "orig_nbformat": 4
 },
 "nbformat": 4,
 "nbformat_minor": 2
}

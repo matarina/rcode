{
 "cells": [
  {
   "cell_type": "code",
   "execution_count": 1,
   "metadata": {},
   "outputs": [],
   "source": [
    "#tidy  ucec and tissue micro array meta data for clam training\n",
    "import pandas as pd\n",
    "import os"
   ]
  },
  {
   "cell_type": "code",
   "execution_count": 66,
   "metadata": {},
   "outputs": [],
   "source": [
    "df = pd.read_csv('/data/dk/ucec/CLAM/dataset_csv/clinical.tsv', sep='\\t')\n",
    "cli = pd.read_csv('/data/dk/ucec/CLAM/dataset_csv/gdc_manifest.2023-09-01.txt',sep='\\t')"
   ]
  },
  {
   "cell_type": "code",
   "execution_count": 67,
   "metadata": {},
   "outputs": [],
   "source": [
    "cli['case_submitter_id'] = cli['filename'].str.extract(r'(^[A-Z0-9]{4}-[A-Z0-9]{2}-[A-Z0-9]{4})')\n",
    "df = df.drop_duplicates(subset='case_submitter_id',keep='first')\n",
    "df = df.merge(cli, on='case_submitter_id', how='left')"
   ]
  },
  {
   "cell_type": "code",
   "execution_count": 68,
   "metadata": {},
   "outputs": [],
   "source": [
    "replacements = {\n",
    "    r'Stage IV.*': \"Stage_IV\",\n",
    "    r'Stage III.*': \"Stage_III\",\n",
    "    r'Stage II.*': \"Stage_II\",\n",
    "    r'Stage I.*': \"Stage_I\"\n",
    "}\n",
    "for pattern ,replace in replacements.items():\n",
    "    df['figo_stage'] = df['figo_stage'].str.replace(pattern,replace)\n",
    "df = df.drop('case_id',axis=1)"
   ]
  },
  {
   "cell_type": "code",
   "execution_count": 69,
   "metadata": {},
   "outputs": [],
   "source": [
    "df['slide_id'] = df['filename'].str.replace('.svs','')\n",
    "df.rename(columns={'case_submitter_id':'case_id','figo_stage':'label'},inplace=True)"
   ]
  },
  {
   "cell_type": "code",
   "execution_count": 70,
   "metadata": {},
   "outputs": [],
   "source": [
    "df[['label','case_id','slide_id']].to_csv('/data/dk/ucec/CLAM/dataset_csv/ucec_meta.csv', index=False)"
   ]
  },
  {
   "cell_type": "code",
   "execution_count": 46,
   "metadata": {},
   "outputs": [],
   "source": [
    "### tma meta rehsape below\n",
    "endo = pd.read_csv('/data/dk/endometrium/endo_tma_meta.csv',sep = ',')"
   ]
  },
  {
   "cell_type": "code",
   "execution_count": 47,
   "metadata": {},
   "outputs": [
    {
     "name": "stdout",
     "output_type": "stream",
     "text": [
      "T1.*\n",
      "T4.*\n",
      "T3.*\n"
     ]
    }
   ],
   "source": [
    "endo['slide_id'] = endo['序号'].apply(lambda x: x[0] + x[1:].lstrip('0'))\n",
    "replacements = {\n",
    "    r'T1.*': \"Stage_I\",\n",
    "    r'T4.*': \"Stage_IV\",\n",
    "    r'T3.*': \"Stage_III\"\n",
    "}\n",
    "endo['label'] = endo['TNM']\n",
    "for pattern, replace in replacements.items():\n",
    "    print(pattern)\n",
    "    endo['label'] = endo['label'].str.replace(pattern,replace)\n",
    "endo = endo.rename(columns={'病理号':'case_id'})\n",
    "endo = endo[['case_id','slide_id','label']]\n"
   ]
  },
  {
   "cell_type": "code",
   "execution_count": 48,
   "metadata": {},
   "outputs": [],
   "source": [
    "endo.to_csv('/data/dk/ucec/CLAM/dataset_csv/endo_meta.csv',index=False)"
   ]
  },
  {
   "cell_type": "code",
   "execution_count": null,
   "metadata": {},
   "outputs": [],
   "source": []
  }
 ],
 "metadata": {
  "kernelspec": {
   "display_name": "clam",
   "language": "python",
   "name": "clam"
  },
  "language_info": {
   "codemirror_mode": {
    "name": "ipython",
    "version": 3
   },
   "file_extension": ".py",
   "mimetype": "text/x-python",
   "name": "python",
   "nbconvert_exporter": "python",
   "pygments_lexer": "ipython3",
   "version": "3.7.5"
  },
  "orig_nbformat": 4
 },
 "nbformat": 4,
 "nbformat_minor": 2
}

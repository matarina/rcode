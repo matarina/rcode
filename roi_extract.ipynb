{
 "cells": [
  {
   "cell_type": "code",
   "execution_count": 5,
   "metadata": {},
   "outputs": [],
   "source": [
    "import cv2\n",
    "image = cv2.imread('/data/dk/roi_test/roi.png')\n"
   ]
  },
  {
   "cell_type": "code",
   "execution_count": 6,
   "metadata": {},
   "outputs": [],
   "source": [
    "hsv_image = cv2.cvtColor(image, cv2.COLOR_BGR2HSV)"
   ]
  },
  {
   "cell_type": "code",
   "execution_count": 7,
   "metadata": {},
   "outputs": [
    {
     "name": "stderr",
     "output_type": "stream",
     "text": [
      "This plugin does not support propagateSizeHints()\n",
      "This plugin does not support propagateSizeHints()\n",
      "This plugin does not support propagateSizeHints()\n"
     ]
    }
   ],
   "source": [
    "lower_red = (0, 100, 100)  # Lower HSV values for red\n",
    "upper_red = (10, 255, 255)  # Upper HSV values for red\n",
    "mask = cv2.inRange(hsv_image, lower_red, upper_red)\n",
    "roi = cv2.bitwise_and(image, image, mask=mask)\n",
    "cv2.imshow('ROI', roi)\n",
    "cv2.waitKey(0)\n",
    "cv2.destroyAllWindows()\n"
   ]
  },
  {
   "cell_type": "code",
   "execution_count": 3,
   "metadata": {},
   "outputs": [
    {
     "name": "stderr",
     "output_type": "stream",
     "text": [
      "This plugin does not support propagateSizeHints()\n"
     ]
    }
   ],
   "source": [
    "cv2.imwrite('roi_image.jpg', roi)"
   ]
  },
  {
   "cell_type": "code",
   "execution_count": null,
   "metadata": {},
   "outputs": [],
   "source": []
  }
 ],
 "metadata": {
  "kernelspec": {
   "display_name": "roi",
   "language": "python",
   "name": "roi"
  },
  "language_info": {
   "codemirror_mode": {
    "name": "ipython",
    "version": 3
   },
   "file_extension": ".py",
   "mimetype": "text/x-python",
   "name": "python",
   "nbconvert_exporter": "python",
   "pygments_lexer": "ipython3",
   "version": "3.11.5"
  },
  "orig_nbformat": 4
 },
 "nbformat": 4,
 "nbformat_minor": 2
}

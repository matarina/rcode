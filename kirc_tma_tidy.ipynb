{
  c"ells": [
  {
   "cell_type": "code",
   "execution_count": 89,
   "metadata": {},
   "outputs": [],
   "source": [
    "import os\n",
    "import pandas as pd"
   ]
  },
  {
   "cell_type": "code",
   "execution_count": 90,
   "metadata": {},
   "outputs": [],
   "source": [
    "df1 = pd.read_csv('/data/dk/kirc/test_data/meta_data/生存期肾癌HKidE180Su02病理资料 添加数据PDL1.csv')\n",
    "df2 = pd.read_csv('/data/dk/kirc/test_data/meta_data/生存期肾癌HKidE180Su02阵列排布表.csv')"
   ]
  },
  {
   "cell_type": "code",
   "execution_count": 91,
   "metadata": {},
   "outputs": [],
   "source": [
    "df2 = df2.iloc[23:204]\n",
    "df2.columns = df2.iloc[0]\n",
    "df2 = df2[1:]\n",
    "df2['蜡块编号'] = df2['蜡块编号'].str.extract(r'(A[0-9]{4})')\n",
    "df2.rename(columns={'蜡块编号':'组织编码'},inplace=True)\n",
    "df1.rename(columns={'AJCC第七版临床分期':'label'},inplace=True)\n",
    "df1['组织编码'] = df1['组织编码'].str.replace(r'RUrKid[0-9]{4}', '').str.replace(r'F01','')\n",
    "df1['label'] = df1['label'].str.replace(r'1期', 'Stage_I').str.replace(r'2期', 'Stage_II').str.replace(r'3期', 'Stage_III').str.replace(r'4期', 'Stage_IV')\n",
    "df = df1.merge(df2, on='组织编码', how='left') \n",
    "df['slide_id'] = df['点位置'].str.replace(r'0(?!$)','')\n",
    "df['case_id'] = range(1,df.shape[0]+1)\n",
    "#filter raw with cancer\n",
    "df = df[df['组织类型_y'] =='癌']"
   ]
  },
  {
   "cell_type": "code",
   "execution_count": 92,
   "metadata": {},
   "outputs": [],
   "source": [
    "\n",
    "df[['case_id','slide_id','label']].to_csv('/data/dk/kirc/CLAM/dataset_csv/tma_meta.csv', index=False)"
   ]
  }
 ],
 "metadata": {
  "kernelspec": {
   "display_name": "clam",
   "language": "python",
   "name": "clam"
  },
  "language_info": {
   "codemirror_mode": {
    "name": "ipython",
    "version": 3
   },
   "file_extension": ".py",
   "mimetype": "text/x-python",
   "name": "python",
   "nbconvert_exporter": "python",
   "pygments_lexer": "ipython3",
   "version": "3.7.5"
  },
  "orig_nbformat": 4
 },
 "nbformat": 4,
 "nbformat_minor": 2
}
